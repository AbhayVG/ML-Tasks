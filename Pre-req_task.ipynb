{
 "cells": [
  {
   "cell_type": "markdown",
   "metadata": {},
   "source": [
    "# QUESTIONS "
   ]
  },
  {
   "cell_type": "markdown",
   "metadata": {},
   "source": [
    "1. How many multiplications and additions do you need to perform a matrix multiplication between a (n, k) and (k, m) matrix? Explain."
   ]
  },
  {
   "cell_type": "markdown",
   "metadata": {},
   "source": [
    "ANS.  Suppose there is a matrix A which has dimensions (n,k)\n",
    "      and matrix B has dimensions (k,m)\n",
    "      \n",
    "      So product of both matrix C will have (n,m) dimensions.\n",
    "\n",
    "      therefore multiplications performed by the given matrix will be n x m x k.\n",
    "\n",
    "      Addition will be n x m x (k-1)  "
   ]
  },
  {
   "cell_type": "markdown",
   "metadata": {},
   "source": [
    "# ----------------------------------------------------------------------"
   ]
  },
  {
   "cell_type": "markdown",
   "metadata": {},
   "source": [
    "2. Write Python code to multiply the above two matrices. Solve using list of lists and then use numpy. Compare the timing of both solutions. Which one is faster? Why?"
   ]
  },
  {
   "cell_type": "code",
   "execution_count": 1,
   "metadata": {},
   "outputs": [],
   "source": [
    "import numpy as np \n",
    "import time"
   ]
  },
  {
   "cell_type": "code",
   "execution_count": 2,
   "metadata": {},
   "outputs": [],
   "source": [
    "def matrix(m, n):\n",
    "    return [[n*i+j for j in range(n)] for i in range(m)]"
   ]
  },
  {
   "cell_type": "code",
   "execution_count": 3,
   "metadata": {},
   "outputs": [],
   "source": [
    "A = matrix(100, 150)\n",
    "B = matrix(150, 200)\n",
    "\n",
    "A_np = np.array(A)\n",
    "B_np = np.array(B)"
   ]
  },
  {
   "cell_type": "code",
   "execution_count": 4,
   "metadata": {},
   "outputs": [
    {
     "name": "stdout",
     "output_type": "stream",
     "text": [
      "Output of matrix multiplication using list of lists:\n",
      "[222755000, 222766175, 222777350, 222788525, 222799700]\n",
      "[558005000, 558038675, 558072350, 558106025, 558139700]\n",
      "[893255000, 893311175, 893367350, 893423525, 893479700]\n",
      "[1228505000, 1228583675, 1228662350, 1228741025, 1228819700]\n",
      "[1563755000, 1563856175, 1563957350, 1564058525, 1564159700]\n",
      "Output of matrix multiplication using NumPy:\n",
      "[[ 222755000  222766175  222777350  222788525  222799700]\n",
      " [ 558005000  558038675  558072350  558106025  558139700]\n",
      " [ 893255000  893311175  893367350  893423525  893479700]\n",
      " [1228505000 1228583675 1228662350 1228741025 1228819700]\n",
      " [1563755000 1563856175 1563957350 1564058525 1564159700]]\n"
     ]
    }
   ],
   "source": [
    "def matrix_mul(A, B):\n",
    "    if len(A[0]) != len(B):\n",
    "        return None\n",
    "    return [[sum(A[i][k] * B[k][j] for k in range(len(B))) for j in range(len(B[0]))] for i in range(len(A))]\n",
    "\n",
    "\n",
    "C1 = matrix_mul(A, B)\n",
    "print(\"Output of matrix multiplication using list of lists:\")\n",
    "for row in C1[:5]:  # Print first 5 rows for brevity\n",
    "    print(row[:5])  # Print first 5 columns for brevity\n",
    "\n",
    "C2 = np.dot(A_np, B_np)\n",
    "print(\"Output of matrix multiplication using NumPy:\")\n",
    "print(C2[:5, :5]) "
   ]
  },
  {
   "cell_type": "code",
   "execution_count": 5,
   "metadata": {},
   "outputs": [],
   "source": [
    "# time for list of list implementation\n",
    "start_time = time.time()\n",
    "C1 = matrix_mul(A, B)\n",
    "list_time = time.time() - start_time\n",
    "\n",
    "# time for numpy implementation\n",
    "start_time = time.time()\n",
    "C2 = np.dot(A_np, B_np)\n",
    "numpy_time = time.time() - start_time"
   ]
  },
  {
   "cell_type": "code",
   "execution_count": 6,
   "metadata": {},
   "outputs": [
    {
     "name": "stdout",
     "output_type": "stream",
     "text": [
      "Time taken using list of lists: 0.290100 seconds\n",
      "Time taken using NumPy: 0.002003 seconds\n",
      "The results are different.\n",
      "NumPy implementation is faster than list of lists.\n"
     ]
    }
   ],
   "source": [
    "print(f\"Time taken using list of lists: {list_time:.6f} seconds\")\n",
    "print(f\"Time taken using NumPy: {numpy_time:.6f} seconds\")\n",
    "\n",
    "if np.allclose(C1, C2):\n",
    "    print(\"The results are the same.\")\n",
    "else:\n",
    "    print(\"The results are different.\")\n",
    "    \n",
    "if list_time < numpy_time:\n",
    "    print(\"List of lists implementation is faster than NumPy.\")\n",
    "else:\n",
    "    print(\"NumPy implementation is faster than list of lists.\")"
   ]
  },
  {
   "cell_type": "markdown",
   "metadata": {},
   "source": [
    "# ----------------------------------------------------------------------\n"
   ]
  },
  {
   "cell_type": "markdown",
   "metadata": {},
   "source": [
    "3. Finding the highest element in a list requires one pass of the array. Finding the second highest element requires 2 passes of the the array. Using this method, what is the time complexity of finding the median of the array? Can you suggest a better method? Can you implement both these methods in Python and compare against numpy.median routine in terms of time?"
   ]
  },
  {
   "cell_type": "markdown",
   "metadata": {},
   "source": [
    "ANS. I think the better method to implement this is to sort the elements first and then find median."
   ]
  },
  {
   "cell_type": "code",
   "execution_count": 7,
   "metadata": {},
   "outputs": [],
   "source": [
    "import numpy as np\n",
    "import time"
   ]
  },
  {
   "cell_type": "code",
   "execution_count": 8,
   "metadata": {},
   "outputs": [
    {
     "name": "stdout",
     "output_type": "stream",
     "text": [
      "Sorted array is [1, 2, 3, 4, 5, 6, 7]\n",
      "Time taken to sort the array: 0.000000 seconds\n",
      "Median found manually is 4\n"
     ]
    }
   ],
   "source": [
    "arr = [7, 1, 3, 2, 5, 6, 4]\n",
    "\n",
    "# Measure time for sorting\n",
    "start_time = time.time()\n",
    "sorted_arr = sorted(arr)\n",
    "sort_time = time.time() - start_time\n",
    "print(\"Sorted array is\", sorted_arr)\n",
    "print(f\"Time taken to sort the array: {sort_time:.6f} seconds\")\n",
    "\n",
    "# Measure time for finding the median manually\n",
    "start_time = time.time()\n",
    "n = len(sorted_arr)\n",
    "if n % 2 == 1:\n",
    "    median_manual = sorted_arr[n // 2]\n",
    "else:\n",
    "    median_manual = (sorted_arr[n // 2 - 1] + sorted_arr[n // 2]) / 2\n",
    "manual_median_time = time.time() - start_time\n",
    "print(\"Median found manually is\", median_manual)\n"
   ]
  },
  {
   "cell_type": "code",
   "execution_count": 9,
   "metadata": {},
   "outputs": [
    {
     "name": "stdout",
     "output_type": "stream",
     "text": [
      "Median found using NumPy is 4.0\n",
      "Time taken to find the median using NumPy: 0.000000 seconds\n",
      "Total time taken using manual method: 0.000000 seconds\n",
      "Total time taken using NumPy: 0.000000 seconds\n",
      "NumPy is faster than manual method.\n"
     ]
    }
   ],
   "source": [
    "start_time = time.time()\n",
    "median_numpy = np.median(sorted_arr)\n",
    "numpy_median_time = time.time() - start_time\n",
    "print(\"Median found using NumPy is\", median_numpy)\n",
    "print(f\"Time taken to find the median using NumPy: {numpy_median_time:.6f} seconds\")\n",
    "\n",
    "# Total time taken for each method\n",
    "total_manual_time = sort_time + manual_median_time\n",
    "total_numpy_time = sort_time + numpy_median_time\n",
    "\n",
    "print(f\"Total time taken using manual method: {total_manual_time:.6f} seconds\")\n",
    "print(f\"Total time taken using NumPy: {total_numpy_time:.6f} seconds\")\n",
    "\n",
    "# Comparison\n",
    "if total_manual_time < total_numpy_time:\n",
    "    print(\"Manual method is faster than NumPy.\")\n",
    "else:\n",
    "    print(\"NumPy is faster than manual method.\")"
   ]
  },
  {
   "cell_type": "markdown",
   "metadata": {},
   "source": [
    "# ----------------------------------------------------------------------\n"
   ]
  },
  {
   "cell_type": "markdown",
   "metadata": {},
   "source": [
    "4.  What is the gradient of the following function with respect to x and y?\n",
    "\n",
    "$$ x^2y + y^3\\sin(x) $$\n",
    "\n",
    "ANS. "
   ]
  },
  {
   "cell_type": "markdown",
   "metadata": {},
   "source": [
    "$$\n",
    "\\begin{align*}\n",
    "&\\frac{\\partial f}{\\partial x} &= \\frac{\\partial}{\\partial x} \n",
    "\\\\\n",
    "\\\\ (x^2y + y^3\\sin(x)) &= 2xy + y^3\\cos(x) \\\\\n",
    "\\\\\n",
    "&\\frac{\\partial f}{\\partial y} &= \\frac{\\partial}{\\partial y} \n",
    "\\\\\n",
    "\\\\ (x^2y + y^3\\sin(x)) &= x^2 + 3y^2\\sin(x)\n",
    "\\end{align*}\n",
    "$$"
   ]
  },
  {
   "cell_type": "markdown",
   "metadata": {},
   "source": [
    "# ----------------------------------------------------------------------\n"
   ]
  },
  {
   "cell_type": "markdown",
   "metadata": {},
   "source": [
    "5. Use JAX to confirm the gradient evaluated by your method matches the analytical solution corresponding to a few random values of x and y."
   ]
  },
  {
   "cell_type": "markdown",
   "metadata": {},
   "source": [
    "# ----------------------------------------------------------------------\n"
   ]
  },
  {
   "cell_type": "markdown",
   "metadata": {},
   "source": [
    "6. Use `sympy` to confirm that you obtain the same gradient analytically."
   ]
  },
  {
   "cell_type": "code",
   "execution_count": 10,
   "metadata": {},
   "outputs": [
    {
     "data": {
      "text/plain": [
       "(2*x*y + y**3*cos(x), x**2 + 3*y**2*sin(x))"
      ]
     },
     "execution_count": 10,
     "metadata": {},
     "output_type": "execute_result"
    }
   ],
   "source": [
    "import sympy as sym\n",
    "\n",
    "x, y = sym.symbols('x y')\n",
    "f = (x**2)*y + (y**3)*sym.sin(x)\n",
    "\n",
    "sym.diff(f, x), sym.diff(f, y)"
   ]
  },
  {
   "cell_type": "markdown",
   "metadata": {},
   "source": [
    "# ----------------------------------------------------------------------\n"
   ]
  },
  {
   "cell_type": "markdown",
   "metadata": {},
   "source": [
    "7. Create a Python nested dictionary to represent hierarchical information. We want to store record of students and their marks. Something like:\n",
    "\n",
    "- 1 2022\n",
    "    1. Branch 1\n",
    "        1. Roll Number: 1, Name: N, Marks:\n",
    "            1. Maths: 100, English: 70 …\n",
    "    2. Branch 2\n",
    "- 2 2023\n",
    "    1. Branch 1\n",
    "    2. Branch 2\n",
    "- 3 2024\n",
    "    1. Branch 1\n",
    "    2. Branch 2\n",
    "- 4 2025\n",
    "    1. Branch 1\n",
    "    2. Branch 2"
   ]
  },
  {
   "cell_type": "code",
   "execution_count": 11,
   "metadata": {},
   "outputs": [
    {
     "data": {
      "text/plain": [
       "{2022: {'Branch 1': {1: {'Roll Number': 1,\n",
       "    'Name': 'N',\n",
       "    'Marks': {'Maths': 100, 'English': 70}},\n",
       "   2: {'Roll Number': 2, 'Name': 'M', 'Marks': {'Maths': 90, 'English': 80}}},\n",
       "  'Branch 2': {1: {'Roll Number': 2,\n",
       "    'Name': 'M',\n",
       "    'Marks': {'Maths': 90, 'English': 80}},\n",
       "   2: {'Roll Number': 1,\n",
       "    'Name': 'N',\n",
       "    'Marks': {'Maths': 100, 'English': 70}}}},\n",
       " 2023: {'Branch 1': {1: {'Roll Number': 3,\n",
       "    'Name': 'O',\n",
       "    'Marks': {'Maths': 80, 'English': 90}},\n",
       "   2: {'Roll Number': 4, 'Name': 'P', 'Marks': {'Maths': 70, 'English': 100}}},\n",
       "  'Branch 2': {1: {'Roll Number': 4,\n",
       "    'Name': 'P',\n",
       "    'Marks': {'Maths': 70, 'English': 100}},\n",
       "   2: {'Roll Number': 3, 'Name': 'O', 'Marks': {'Maths': 80, 'English': 90}}}},\n",
       " 2024: {'Branch 1': {1: {'Roll Number': 5,\n",
       "    'Name': 'Q',\n",
       "    'Marks': {'Maths': 60, 'English': 60}},\n",
       "   2: {'Roll Number': 6, 'Name': 'R', 'Marks': {'Maths': 50, 'English': 50}}},\n",
       "  'Branch 2': {1: {'Roll Number': 6,\n",
       "    'Name': 'R',\n",
       "    'Marks': {'Maths': 50, 'English': 50}},\n",
       "   2: {'Roll Number': 5, 'Name': 'Q', 'Marks': {'Maths': 60, 'English': 60}}}},\n",
       " 2025: {'Branch 1': {1: {'Roll Number': 7,\n",
       "    'Name': 'S',\n",
       "    'Marks': {'Maths': 40, 'English': 40}},\n",
       "   2: {'Roll Number': 8, 'Name': 'T', 'Marks': {'Maths': 30, 'English': 30}}},\n",
       "  'Branch 2': {1: {'Roll Number': 8,\n",
       "    'Name': 'T',\n",
       "    'Marks': {'Maths': 30, 'English': 30}},\n",
       "   2: {'Roll Number': 7, 'Name': 'S', 'Marks': {'Maths': 40, 'English': 40}}}}}"
      ]
     },
     "execution_count": 11,
     "metadata": {},
     "output_type": "execute_result"
    }
   ],
   "source": [
    "main_dict =     {\n",
    "                2022:   { \n",
    "                        \"Branch 1\":     {   \n",
    "                                        1:      {\n",
    "                                                \"Roll Number\": 1, \n",
    "                                                \"Name\": \"N\", \n",
    "                                                \"Marks\":        {  \n",
    "                                                                \"Maths\": 100, \n",
    "                                                                \"English\": 70\n",
    "                                                                }\n",
    "                                                },\n",
    "                                        2:      {\n",
    "                                                \"Roll Number\": 2, \n",
    "                                                \"Name\": \"M\", \n",
    "                                                \"Marks\":        {\n",
    "                                                                \"Maths\": 90, \n",
    "                                                                \"English\": 80\n",
    "                                                                }\n",
    "                                                }\n",
    "                                        },\n",
    "                        \"Branch 2\":     {\n",
    "                                        1:      {\n",
    "                                                \"Roll Number\": 2, \n",
    "                                                \"Name\": \"M\", \n",
    "                                                \"Marks\":        {\n",
    "                                                                \"Maths\": 90, \n",
    "                                                                \"English\": 80\n",
    "                                                                }\n",
    "                                                },\n",
    "                                        2:      {\n",
    "                                                \"Roll Number\": 1, \n",
    "                                                \"Name\": \"N\", \n",
    "                                                \"Marks\":        {\n",
    "                                                                \"Maths\": 100, \n",
    "                                                                \"English\": 70\n",
    "                                                                }\n",
    "                                                }\n",
    "                                        }\n",
    "                        },\n",
    "                2023:   {\n",
    "                        \"Branch 1\":     {\n",
    "                                        1:      {\n",
    "                                                \"Roll Number\": 3, \n",
    "                                                \"Name\": \"O\", \n",
    "                                                \"Marks\":        {\n",
    "                                                                \"Maths\": 80, \n",
    "                                                                \"English\": 90\n",
    "                                                                }\n",
    "                                                },\n",
    "                                        2:      {\n",
    "                                                \"Roll Number\": 4, \n",
    "                                                \"Name\": \"P\", \n",
    "                                                \"Marks\":        {\n",
    "                                                                \"Maths\": 70, \n",
    "                                                                \"English\": 100\n",
    "                                                                }\n",
    "                                                }\n",
    "                                        },\n",
    "                        \"Branch 2\":     {\n",
    "                                        1:      {\n",
    "                                                \"Roll Number\": 4, \n",
    "                                                \"Name\": \"P\", \n",
    "                                                \"Marks\":        {\n",
    "                                                                \"Maths\": 70, \n",
    "                                                                \"English\": 100\n",
    "                                                                }\n",
    "                                                },\n",
    "                                        2:      {\n",
    "                                                \"Roll Number\": 3, \n",
    "                                                \"Name\": \"O\", \n",
    "                                                \"Marks\":        {\n",
    "                                                                \"Maths\": 80, \n",
    "                                                                \"English\": 90\n",
    "                                                                }\n",
    "                                                }\n",
    "                                        }\n",
    "                        },\n",
    "                2024:   {\n",
    "                        \"Branch 1\":     {\n",
    "                                        1:      {\n",
    "                                                \"Roll Number\": 5, \n",
    "                                                \"Name\": \"Q\", \n",
    "                                                \"Marks\":        {\n",
    "                                                                \"Maths\": 60, \n",
    "                                                                \"English\": 60\n",
    "                                                                }\n",
    "                                                },\n",
    "                                        2:      {\n",
    "                                                \"Roll Number\": 6, \n",
    "                                                \"Name\": \"R\", \n",
    "                                                \"Marks\":        {\n",
    "                                                                \"Maths\": 50, \n",
    "                                                                \"English\": 50\n",
    "                                                                }\n",
    "                                                }\n",
    "                                        },\n",
    "                        \"Branch 2\":     {\n",
    "                                        1:      {\n",
    "                                                \"Roll Number\": 6, \n",
    "                                                \"Name\": \"R\", \n",
    "                                                \"Marks\":        {\n",
    "                                                                \"Maths\": 50, \n",
    "                                                                \"English\": 50\n",
    "                                                                }\n",
    "                                                },\n",
    "                                        2:      {\n",
    "                                                \"Roll Number\": 5, \n",
    "                                                \"Name\": \"Q\", \n",
    "                                                \"Marks\":        {\n",
    "                                                                \"Maths\": 60, \n",
    "                                                                \"English\": 60\n",
    "                                                                }\n",
    "                                                }\n",
    "                                        }\n",
    "                        },\n",
    "                2025:   {\n",
    "                        \"Branch 1\":     {\n",
    "                                        1:      {\n",
    "                                                \"Roll Number\": 7, \n",
    "                                                \"Name\": \"S\", \n",
    "                                                \"Marks\":        {\n",
    "                                                                \"Maths\": 40, \n",
    "                                                                \"English\": 40\n",
    "                                                                }\n",
    "                                                },\n",
    "                                        2:      {\n",
    "                                                \"Roll Number\": 8, \n",
    "                                                \"Name\": \"T\", \n",
    "                                                \"Marks\":        {\n",
    "                                                                \"Maths\": 30, \n",
    "                                                                \"English\": 30\n",
    "                                                                }\n",
    "                                                }\n",
    "                                        },\n",
    "                        \"Branch 2\":     {\n",
    "                                        1:      {\n",
    "                                                \"Roll Number\": 8, \n",
    "                                                \"Name\": \"T\", \n",
    "                                                \"Marks\":        {\n",
    "                                                                \"Maths\": 30, \n",
    "                                                                \"English\": 30\n",
    "                                                                }\n",
    "                                                },\n",
    "                                        2:      {\n",
    "                                                \"Roll Number\": 7, \n",
    "                                                \"Name\": \"S\", \n",
    "                                                \"Marks\":        {\n",
    "                                                                \"Maths\": 40, \n",
    "                                                                \"English\": 40\n",
    "                                                                }\n",
    "                                                }\n",
    "                                        }\n",
    "                        }\n",
    "                }\n",
    "\n",
    "main_dict"
   ]
  },
  {
   "cell_type": "markdown",
   "metadata": {},
   "source": [
    "# ----------------------------------------------------------------------\n"
   ]
  },
  {
   "cell_type": "markdown",
   "metadata": {},
   "source": [
    "8. Store the same information using Python classes. We have an overall database which is a list of year objects. Each year contains a list of branches. Each branch contains a list of students. Each student has some properties like name, roll number and has marks in some subjects."
   ]
  },
  {
   "cell_type": "code",
   "execution_count": 12,
   "metadata": {},
   "outputs": [
    {
     "data": {
      "text/plain": [
       "(Year(2022): [\n",
       " \tBranch 1: [\n",
       " \t\tRoll-Number(1), Name(N): [\n",
       " \t\t\tSubject(Maths): Marks(100), \n",
       " \t\t\tSubject(English): Marks(70)], \n",
       " \t\tRoll-Number(2), Name(M): [\n",
       " \t\t\tSubject(Maths): Marks(90), \n",
       " \t\t\tSubject(English): Marks(80)]], \n",
       " \tBranch 2: [\n",
       " \t\tRoll-Number(2), Name(M): [\n",
       " \t\t\tSubject(Maths): Marks(90), \n",
       " \t\t\tSubject(English): Marks(80)], \n",
       " \t\tRoll-Number(1), Name(N): [\n",
       " \t\t\tSubject(Maths): Marks(100), \n",
       " \t\t\tSubject(English): Marks(70)]]],\n",
       " Year(2023): [\n",
       " \tBranch 1: [\n",
       " \t\tRoll-Number(3), Name(O): [\n",
       " \t\t\tSubject(Maths): Marks(80), \n",
       " \t\t\tSubject(English): Marks(90)], \n",
       " \t\tRoll-Number(4), Name(P): [\n",
       " \t\t\tSubject(Maths): Marks(70), \n",
       " \t\t\tSubject(English): Marks(100)]], \n",
       " \tBranch 2: [\n",
       " \t\tRoll-Number(4), Name(P): [\n",
       " \t\t\tSubject(Maths): Marks(70), \n",
       " \t\t\tSubject(English): Marks(100)], \n",
       " \t\tRoll-Number(3), Name(O): [\n",
       " \t\t\tSubject(Maths): Marks(80), \n",
       " \t\t\tSubject(English): Marks(90)]]],\n",
       " Year(2024): [\n",
       " \tBranch 1: [\n",
       " \t\tRoll-Number(5), Name(Q): [\n",
       " \t\t\tSubject(Maths): Marks(60), \n",
       " \t\t\tSubject(English): Marks(60)], \n",
       " \t\tRoll-Number(6), Name(R): [\n",
       " \t\t\tSubject(Maths): Marks(50), \n",
       " \t\t\tSubject(English): Marks(50)]], \n",
       " \tBranch 2: [\n",
       " \t\tRoll-Number(6), Name(R): [\n",
       " \t\t\tSubject(Maths): Marks(50), \n",
       " \t\t\tSubject(English): Marks(50)], \n",
       " \t\tRoll-Number(5), Name(Q): [\n",
       " \t\t\tSubject(Maths): Marks(60), \n",
       " \t\t\tSubject(English): Marks(60)]]],\n",
       " Year(2025): [\n",
       " \tBranch 1: [\n",
       " \t\tRoll-Number(7), Name(S): [\n",
       " \t\t\tSubject(Maths): Marks(40), \n",
       " \t\t\tSubject(English): Marks(40)], \n",
       " \t\tRoll-Number(8), Name(T): [\n",
       " \t\t\tSubject(Maths): Marks(30), \n",
       " \t\t\tSubject(English): Marks(30)]], \n",
       " \tBranch 2: [\n",
       " \t\tRoll-Number(8), Name(T): [\n",
       " \t\t\tSubject(Maths): Marks(30), \n",
       " \t\t\tSubject(English): Marks(30)], \n",
       " \t\tRoll-Number(7), Name(S): [\n",
       " \t\t\tSubject(Maths): Marks(40), \n",
       " \t\t\tSubject(English): Marks(40)]]])"
      ]
     },
     "execution_count": 12,
     "metadata": {},
     "output_type": "execute_result"
    }
   ],
   "source": [
    "class Year:\n",
    "    def __init__(self, year):\n",
    "        self.year = year\n",
    "        self.branches = []\n",
    "\n",
    "    def __repr__(self):\n",
    "        return f\"Year({self.year}): {[branch for branch in self.branches]}\"\n",
    "\n",
    "    def add_branch(self, branch):\n",
    "        self.branches.append(branch)\n",
    "\n",
    "class Branch:\n",
    "    def __init__(self, name):\n",
    "        self.name = name\n",
    "        self.students = []\n",
    "\n",
    "    def __repr__(self):\n",
    "        return f\"\\n\\t{self.name}: {[student for student in self.students]}\"\n",
    "\n",
    "    def add_student(self, student):\n",
    "        self.students.append(student)\n",
    "\n",
    "class Student:\n",
    "    def __init__(self, roll, name):\n",
    "        self.roll = roll\n",
    "        self.name = name\n",
    "        self.marks = []\n",
    "\n",
    "    def __repr__(self):\n",
    "        return f\"\\n\\t\\tRoll-Number({self.roll}), Name({self.name}): {[marks for marks in self.marks]}\"\n",
    "\n",
    "    def add_marks(self, marks):\n",
    "        self.marks.append(marks)\n",
    "\n",
    "class Marks:\n",
    "    def __init__(self, subject, marks):\n",
    "        self.subject = subject\n",
    "        self.marks = marks\n",
    "\n",
    "    def __repr__(self):\n",
    "        return f\"\\n\\t\\t\\tSubject({self.subject}): Marks({self.marks})\"\n",
    "\n",
    "def create_year(year):\n",
    "    year_obj = Year(year)\n",
    "\n",
    "    for branch in main_dict[year]:\n",
    "        branch_obj = Branch(branch)\n",
    "\n",
    "        for student in main_dict[year][branch]:\n",
    "            student_obj = Student(main_dict[year][branch][student][\"Roll Number\"], main_dict[year][branch][student][\"Name\"])\n",
    "\n",
    "            for subject in main_dict[year][branch][student][\"Marks\"]:\n",
    "                marks_obj = Marks(subject, main_dict[year][branch][student][\"Marks\"][subject])\n",
    "                student_obj.add_marks(marks_obj)\n",
    "\n",
    "            branch_obj.add_student(student_obj)\n",
    "\n",
    "        year_obj.add_branch(branch_obj)\n",
    "\n",
    "    return year_obj\n",
    "\n",
    "year_2022 = create_year(2022)\n",
    "year_2023 = create_year(2023)\n",
    "year_2024 = create_year(2024)\n",
    "year_2025 = create_year(2025)\n",
    "\n",
    "year_2022, year_2023, year_2024, year_2025"
   ]
  },
  {
   "cell_type": "markdown",
   "metadata": {},
   "source": [
    "# ----------------------------------------------------------------------\n"
   ]
  },
  {
   "cell_type": "markdown",
   "metadata": {},
   "source": [
    "9. Using matplotlib plot the following functions on the domain: x = 0.5 to 100.0 in steps of 0.5.\n",
    "\n",
    "- 1. $y = x$\n",
    "- 2. $y = x^2$\n",
    "- 3. $y = \\frac{x^3}{100}$\n",
    "- 4. $y = \\sin(x)$\n",
    "- 5. $y = \\frac{\\sin(x)}{x}$\n",
    "- 6. $y = \\log(x)$\n",
    "- 7. $y = e^x$"
   ]
  },
  {
   "cell_type": "code",
   "execution_count": 13,
   "metadata": {},
   "outputs": [],
   "source": [
    "def y1(x):\n",
    "    return x\n",
    "\n",
    "def y2(x):\n",
    "    return x**2\n",
    "\n",
    "def y3(x):\n",
    "    return (x**3)/100\n",
    "\n",
    "def y4(x):\n",
    "    return np.sin(x)\n",
    "\n",
    "def y5(x):\n",
    "    return (np.sin(x))/x\n",
    "\n",
    "def y6(x):\n",
    "    return np.log(x)\n",
    "\n",
    "def y7(x):\n",
    "    return np.exp(x)\n",
    "\n",
    "func = {1: (y1, \"x\"), 2: (y2, \"x^2\"), 3: (y3, \"(x^3)/100\"), 4: (y4, \"sin(x)\"), 5: (y5, \"sin(x)/x\"), 6: (y6, \"log(x)\"), 7: (y7, \"e^x\")}"
   ]
  },
  {
   "cell_type": "code",
   "execution_count": 14,
   "metadata": {},
   "outputs": [
    {
     "data": {
      "image/png": "[encoded data removed]",
      "text/plain": [
       "<Figure size 640x480 with 1 Axes>"
      ]
     },
     "metadata": {},
     "output_type": "display_data"
    },
    {
     "data": {
      "image/png": "[encoded data removed]",
      "text/plain": [
       "<Figure size 640x480 with 1 Axes>"
      ]
     },
     "metadata": {},
     "output_type": "display_data"
    },
    {
     "data": {
      "image/png": "[encoded data removed]",
      "text/plain": [
       "<Figure size 640x480 with 1 Axes>"
      ]
     },
     "metadata": {},
     "output_type": "display_data"
    },
    {
     "data": {
      "image/png": "[encoded data removed]",
      "text/plain": [
       "<Figure size 640x480 with 1 Axes>"
      ]
     },
     "metadata": {},
     "output_type": "display_data"
    },
    {
     "data": {
      "image/png": "[encoded data removed]",
      "text/plain": [
       "<Figure size 640x480 with 1 Axes>"
      ]
     },
     "metadata": {},
     "output_type": "display_data"
    },
    {
     "data": {
      "image/png": "[encoded data removed]",
      "text/plain": [
       "<Figure size 640x480 with 1 Axes>"
      ]
     },
     "metadata": {},
     "output_type": "display_data"
    },
    {
     "data": {
      "image/png": "[encoded data removed]",
      "text/plain": [
       "<Figure size 640x480 with 1 Axes>"
      ]
     },
     "metadata": {},
     "output_type": "display_data"
    }
   ],
   "source": [
    "import matplotlib.pyplot as plt\n",
    "x = np.linspace(10, 100, 100)\n",
    "\n",
    "for i in range(1, 8):\n",
    "    plt.plot(x, func[i][0](x))\n",
    "    plt.title(f\"y = {func[i][1]}\")\n",
    "    plt.show()"
   ]
  },
  {
   "cell_type": "markdown",
   "metadata": {},
   "source": [
    "# ----------------------------------------------------------------------\n"
   ]
  },
  {
   "cell_type": "markdown",
   "metadata": {},
   "source": [
    "10. Using numpy generate a matrix of size `20X5` containing random numbers drawn uniformly from the range of 1 to 2. Using Pandas create a dataframe out of this matrix. Name the columns of the dataframe as “a”, “b”, “c”, “d”, “e”. Find the column with the highest standard deviation. Find the row with the lowest mean."
   ]
  },
  {
   "cell_type": "code",
   "execution_count": 15,
   "metadata": {},
   "outputs": [
    {
     "data": {
      "text/html": [
       "<div>\n",
       "<style scoped>\n",
       "    .dataframe tbody tr th:only-of-type {\n",
       "        vertical-align: middle;\n",
       "    }\n",
       "\n",
       "    .dataframe tbody tr th {\n",
       "        vertical-align: top;\n",
       "    }\n",
       "\n",
       "    .dataframe thead th {\n",
       "        text-align: right;\n",
       "    }\n",
       "</style>\n",
       "<table border=\"1\" class=\"dataframe\">\n",
       "  <thead>\n",
       "    <tr style=\"text-align: right;\">\n",
       "      <th></th>\n",
       "      <th>a</th>\n",
       "      <th>b</th>\n",
       "      <th>c</th>\n",
       "      <th>d</th>\n",
       "      <th>e</th>\n",
       "    </tr>\n",
       "  </thead>\n",
       "  <tbody>\n",
       "    <tr>\n",
       "      <th>0</th>\n",
       "      <td>1.348100</td>\n",
       "      <td>1.082937</td>\n",
       "      <td>1.966298</td>\n",
       "      <td>1.803383</td>\n",
       "      <td>1.838531</td>\n",
       "    </tr>\n",
       "    <tr>\n",
       "      <th>1</th>\n",
       "      <td>1.952029</td>\n",
       "      <td>1.367899</td>\n",
       "      <td>1.310907</td>\n",
       "      <td>1.701936</td>\n",
       "      <td>1.165375</td>\n",
       "    </tr>\n",
       "    <tr>\n",
       "      <th>2</th>\n",
       "      <td>1.016672</td>\n",
       "      <td>1.210625</td>\n",
       "      <td>1.634034</td>\n",
       "      <td>1.653365</td>\n",
       "      <td>1.177835</td>\n",
       "    </tr>\n",
       "    <tr>\n",
       "      <th>3</th>\n",
       "      <td>1.183332</td>\n",
       "      <td>1.475133</td>\n",
       "      <td>1.448044</td>\n",
       "      <td>1.253248</td>\n",
       "      <td>1.763142</td>\n",
       "    </tr>\n",
       "    <tr>\n",
       "      <th>4</th>\n",
       "      <td>1.085077</td>\n",
       "      <td>1.164902</td>\n",
       "      <td>1.429028</td>\n",
       "      <td>1.062797</td>\n",
       "      <td>1.318378</td>\n",
       "    </tr>\n",
       "    <tr>\n",
       "      <th>5</th>\n",
       "      <td>1.511669</td>\n",
       "      <td>1.696548</td>\n",
       "      <td>1.268949</td>\n",
       "      <td>1.623313</td>\n",
       "      <td>1.388345</td>\n",
       "    </tr>\n",
       "    <tr>\n",
       "      <th>6</th>\n",
       "      <td>1.689582</td>\n",
       "      <td>1.195712</td>\n",
       "      <td>1.285412</td>\n",
       "      <td>1.527286</td>\n",
       "      <td>1.984366</td>\n",
       "    </tr>\n",
       "    <tr>\n",
       "      <th>7</th>\n",
       "      <td>1.555271</td>\n",
       "      <td>1.862750</td>\n",
       "      <td>1.126686</td>\n",
       "      <td>1.363633</td>\n",
       "      <td>1.890169</td>\n",
       "    </tr>\n",
       "    <tr>\n",
       "      <th>8</th>\n",
       "      <td>1.959578</td>\n",
       "      <td>1.121436</td>\n",
       "      <td>1.867685</td>\n",
       "      <td>1.107149</td>\n",
       "      <td>1.482768</td>\n",
       "    </tr>\n",
       "    <tr>\n",
       "      <th>9</th>\n",
       "      <td>1.751990</td>\n",
       "      <td>1.038041</td>\n",
       "      <td>1.451810</td>\n",
       "      <td>1.666667</td>\n",
       "      <td>1.441924</td>\n",
       "    </tr>\n",
       "    <tr>\n",
       "      <th>10</th>\n",
       "      <td>1.624103</td>\n",
       "      <td>1.921546</td>\n",
       "      <td>1.031269</td>\n",
       "      <td>1.332237</td>\n",
       "      <td>1.640833</td>\n",
       "    </tr>\n",
       "    <tr>\n",
       "      <th>11</th>\n",
       "      <td>1.825093</td>\n",
       "      <td>1.891588</td>\n",
       "      <td>1.515093</td>\n",
       "      <td>1.796504</td>\n",
       "      <td>1.740989</td>\n",
       "    </tr>\n",
       "    <tr>\n",
       "      <th>12</th>\n",
       "      <td>1.625777</td>\n",
       "      <td>1.949599</td>\n",
       "      <td>1.582934</td>\n",
       "      <td>1.677156</td>\n",
       "      <td>1.463355</td>\n",
       "    </tr>\n",
       "    <tr>\n",
       "      <th>13</th>\n",
       "      <td>1.936357</td>\n",
       "      <td>1.259346</td>\n",
       "      <td>1.100011</td>\n",
       "      <td>1.138973</td>\n",
       "      <td>1.543989</td>\n",
       "    </tr>\n",
       "    <tr>\n",
       "      <th>14</th>\n",
       "      <td>1.484341</td>\n",
       "      <td>1.367338</td>\n",
       "      <td>1.493532</td>\n",
       "      <td>1.485130</td>\n",
       "      <td>1.791468</td>\n",
       "    </tr>\n",
       "    <tr>\n",
       "      <th>15</th>\n",
       "      <td>1.422251</td>\n",
       "      <td>1.249283</td>\n",
       "      <td>1.222316</td>\n",
       "      <td>1.944138</td>\n",
       "      <td>1.450331</td>\n",
       "    </tr>\n",
       "    <tr>\n",
       "      <th>16</th>\n",
       "      <td>1.578894</td>\n",
       "      <td>1.292952</td>\n",
       "      <td>1.614339</td>\n",
       "      <td>1.674415</td>\n",
       "      <td>1.015704</td>\n",
       "    </tr>\n",
       "    <tr>\n",
       "      <th>17</th>\n",
       "      <td>1.556985</td>\n",
       "      <td>1.088652</td>\n",
       "      <td>1.513200</td>\n",
       "      <td>1.000260</td>\n",
       "      <td>1.316375</td>\n",
       "    </tr>\n",
       "    <tr>\n",
       "      <th>18</th>\n",
       "      <td>1.718478</td>\n",
       "      <td>1.700167</td>\n",
       "      <td>1.722156</td>\n",
       "      <td>1.053946</td>\n",
       "      <td>1.667953</td>\n",
       "    </tr>\n",
       "    <tr>\n",
       "      <th>19</th>\n",
       "      <td>1.165881</td>\n",
       "      <td>1.431560</td>\n",
       "      <td>1.910799</td>\n",
       "      <td>1.545294</td>\n",
       "      <td>1.253469</td>\n",
       "    </tr>\n",
       "  </tbody>\n",
       "</table>\n",
       "</div>"
      ],
      "text/plain": [
       "           a         b         c         d         e\n",
       "0   1.348100  1.082937  1.966298  1.803383  1.838531\n",
       "1   1.952029  1.367899  1.310907  1.701936  1.165375\n",
       "2   1.016672  1.210625  1.634034  1.653365  1.177835\n",
       "3   1.183332  1.475133  1.448044  1.253248  1.763142\n",
       "4   1.085077  1.164902  1.429028  1.062797  1.318378\n",
       "5   1.511669  1.696548  1.268949  1.623313  1.388345\n",
       "6   1.689582  1.195712  1.285412  1.527286  1.984366\n",
       "7   1.555271  1.862750  1.126686  1.363633  1.890169\n",
       "8   1.959578  1.121436  1.867685  1.107149  1.482768\n",
       "9   1.751990  1.038041  1.451810  1.666667  1.441924\n",
       "10  1.624103  1.921546  1.031269  1.332237  1.640833\n",
       "11  1.825093  1.891588  1.515093  1.796504  1.740989\n",
       "12  1.625777  1.949599  1.582934  1.677156  1.463355\n",
       "13  1.936357  1.259346  1.100011  1.138973  1.543989\n",
       "14  1.484341  1.367338  1.493532  1.485130  1.791468\n",
       "15  1.422251  1.249283  1.222316  1.944138  1.450331\n",
       "16  1.578894  1.292952  1.614339  1.674415  1.015704\n",
       "17  1.556985  1.088652  1.513200  1.000260  1.316375\n",
       "18  1.718478  1.700167  1.722156  1.053946  1.667953\n",
       "19  1.165881  1.431560  1.910799  1.545294  1.253469"
      ]
     },
     "execution_count": 15,
     "metadata": {},
     "output_type": "execute_result"
    }
   ],
   "source": [
    "import pandas as pd\n",
    "\n",
    "matrix = np.random.rand(20, 5) + 1\n",
    "\n",
    "matrix\n",
    "\n",
    "df = pd.DataFrame(matrix, columns=[\"a\", \"b\", \"c\", \"d\", \"e\"])\n",
    "\n",
    "df\n",
    "\n"
   ]
  },
  {
   "cell_type": "code",
   "execution_count": 16,
   "metadata": {},
   "outputs": [
    {
     "data": {
      "text/plain": [
       "('b', 4)"
      ]
     },
     "execution_count": 16,
     "metadata": {},
     "output_type": "execute_result"
    }
   ],
   "source": [
    "col_max_var = df.var().idxmax()\n",
    "\n",
    "row_min_mean = df.mean(axis=1).idxmin()\n",
    "\n",
    "col_max_var, row_min_mean"
   ]
  },
  {
   "cell_type": "markdown",
   "metadata": {},
   "source": [
    "# ----------------------------------------------------------------------\n"
   ]
  },
  {
   "cell_type": "markdown",
   "metadata": {},
   "source": [
    "11. Add a new column to the dataframe called “f” which is the sum of the columns “a”, “b”, “c”, “d”, “e”. Create another column called “g”. The value in the column “g” should be “LT8” if the value in the column “f” is less than 8 and “GT8” otherwise. Find the number of rows in the dataframe where the value in the column “g” is “LT8”. Find the standard deviation of the column “f” for the rows where the value in the column “g” is “LT8” and “GT8” respectively."
   ]
  },
  {
   "cell_type": "code",
   "execution_count": 17,
   "metadata": {},
   "outputs": [
    {
     "data": {
      "text/html": [
       "<div>\n",
       "<style scoped>\n",
       "    .dataframe tbody tr th:only-of-type {\n",
       "        vertical-align: middle;\n",
       "    }\n",
       "\n",
       "    .dataframe tbody tr th {\n",
       "        vertical-align: top;\n",
       "    }\n",
       "\n",
       "    .dataframe thead th {\n",
       "        text-align: right;\n",
       "    }\n",
       "</style>\n",
       "<table border=\"1\" class=\"dataframe\">\n",
       "  <thead>\n",
       "    <tr style=\"text-align: right;\">\n",
       "      <th></th>\n",
       "      <th>a</th>\n",
       "      <th>b</th>\n",
       "      <th>c</th>\n",
       "      <th>d</th>\n",
       "      <th>e</th>\n",
       "      <th>f</th>\n",
       "    </tr>\n",
       "  </thead>\n",
       "  <tbody>\n",
       "    <tr>\n",
       "      <th>0</th>\n",
       "      <td>1.348100</td>\n",
       "      <td>1.082937</td>\n",
       "      <td>1.966298</td>\n",
       "      <td>1.803383</td>\n",
       "      <td>1.838531</td>\n",
       "      <td>8.039249</td>\n",
       "    </tr>\n",
       "    <tr>\n",
       "      <th>1</th>\n",
       "      <td>1.952029</td>\n",
       "      <td>1.367899</td>\n",
       "      <td>1.310907</td>\n",
       "      <td>1.701936</td>\n",
       "      <td>1.165375</td>\n",
       "      <td>7.498146</td>\n",
       "    </tr>\n",
       "    <tr>\n",
       "      <th>2</th>\n",
       "      <td>1.016672</td>\n",
       "      <td>1.210625</td>\n",
       "      <td>1.634034</td>\n",
       "      <td>1.653365</td>\n",
       "      <td>1.177835</td>\n",
       "      <td>6.692531</td>\n",
       "    </tr>\n",
       "    <tr>\n",
       "      <th>3</th>\n",
       "      <td>1.183332</td>\n",
       "      <td>1.475133</td>\n",
       "      <td>1.448044</td>\n",
       "      <td>1.253248</td>\n",
       "      <td>1.763142</td>\n",
       "      <td>7.122899</td>\n",
       "    </tr>\n",
       "    <tr>\n",
       "      <th>4</th>\n",
       "      <td>1.085077</td>\n",
       "      <td>1.164902</td>\n",
       "      <td>1.429028</td>\n",
       "      <td>1.062797</td>\n",
       "      <td>1.318378</td>\n",
       "      <td>6.060181</td>\n",
       "    </tr>\n",
       "    <tr>\n",
       "      <th>5</th>\n",
       "      <td>1.511669</td>\n",
       "      <td>1.696548</td>\n",
       "      <td>1.268949</td>\n",
       "      <td>1.623313</td>\n",
       "      <td>1.388345</td>\n",
       "      <td>7.488825</td>\n",
       "    </tr>\n",
       "    <tr>\n",
       "      <th>6</th>\n",
       "      <td>1.689582</td>\n",
       "      <td>1.195712</td>\n",
       "      <td>1.285412</td>\n",
       "      <td>1.527286</td>\n",
       "      <td>1.984366</td>\n",
       "      <td>7.682360</td>\n",
       "    </tr>\n",
       "    <tr>\n",
       "      <th>7</th>\n",
       "      <td>1.555271</td>\n",
       "      <td>1.862750</td>\n",
       "      <td>1.126686</td>\n",
       "      <td>1.363633</td>\n",
       "      <td>1.890169</td>\n",
       "      <td>7.798510</td>\n",
       "    </tr>\n",
       "    <tr>\n",
       "      <th>8</th>\n",
       "      <td>1.959578</td>\n",
       "      <td>1.121436</td>\n",
       "      <td>1.867685</td>\n",
       "      <td>1.107149</td>\n",
       "      <td>1.482768</td>\n",
       "      <td>7.538617</td>\n",
       "    </tr>\n",
       "    <tr>\n",
       "      <th>9</th>\n",
       "      <td>1.751990</td>\n",
       "      <td>1.038041</td>\n",
       "      <td>1.451810</td>\n",
       "      <td>1.666667</td>\n",
       "      <td>1.441924</td>\n",
       "      <td>7.350431</td>\n",
       "    </tr>\n",
       "    <tr>\n",
       "      <th>10</th>\n",
       "      <td>1.624103</td>\n",
       "      <td>1.921546</td>\n",
       "      <td>1.031269</td>\n",
       "      <td>1.332237</td>\n",
       "      <td>1.640833</td>\n",
       "      <td>7.549989</td>\n",
       "    </tr>\n",
       "    <tr>\n",
       "      <th>11</th>\n",
       "      <td>1.825093</td>\n",
       "      <td>1.891588</td>\n",
       "      <td>1.515093</td>\n",
       "      <td>1.796504</td>\n",
       "      <td>1.740989</td>\n",
       "      <td>8.769267</td>\n",
       "    </tr>\n",
       "    <tr>\n",
       "      <th>12</th>\n",
       "      <td>1.625777</td>\n",
       "      <td>1.949599</td>\n",
       "      <td>1.582934</td>\n",
       "      <td>1.677156</td>\n",
       "      <td>1.463355</td>\n",
       "      <td>8.298821</td>\n",
       "    </tr>\n",
       "    <tr>\n",
       "      <th>13</th>\n",
       "      <td>1.936357</td>\n",
       "      <td>1.259346</td>\n",
       "      <td>1.100011</td>\n",
       "      <td>1.138973</td>\n",
       "      <td>1.543989</td>\n",
       "      <td>6.978676</td>\n",
       "    </tr>\n",
       "    <tr>\n",
       "      <th>14</th>\n",
       "      <td>1.484341</td>\n",
       "      <td>1.367338</td>\n",
       "      <td>1.493532</td>\n",
       "      <td>1.485130</td>\n",
       "      <td>1.791468</td>\n",
       "      <td>7.621809</td>\n",
       "    </tr>\n",
       "    <tr>\n",
       "      <th>15</th>\n",
       "      <td>1.422251</td>\n",
       "      <td>1.249283</td>\n",
       "      <td>1.222316</td>\n",
       "      <td>1.944138</td>\n",
       "      <td>1.450331</td>\n",
       "      <td>7.288318</td>\n",
       "    </tr>\n",
       "    <tr>\n",
       "      <th>16</th>\n",
       "      <td>1.578894</td>\n",
       "      <td>1.292952</td>\n",
       "      <td>1.614339</td>\n",
       "      <td>1.674415</td>\n",
       "      <td>1.015704</td>\n",
       "      <td>7.176303</td>\n",
       "    </tr>\n",
       "    <tr>\n",
       "      <th>17</th>\n",
       "      <td>1.556985</td>\n",
       "      <td>1.088652</td>\n",
       "      <td>1.513200</td>\n",
       "      <td>1.000260</td>\n",
       "      <td>1.316375</td>\n",
       "      <td>6.475472</td>\n",
       "    </tr>\n",
       "    <tr>\n",
       "      <th>18</th>\n",
       "      <td>1.718478</td>\n",
       "      <td>1.700167</td>\n",
       "      <td>1.722156</td>\n",
       "      <td>1.053946</td>\n",
       "      <td>1.667953</td>\n",
       "      <td>7.862699</td>\n",
       "    </tr>\n",
       "    <tr>\n",
       "      <th>19</th>\n",
       "      <td>1.165881</td>\n",
       "      <td>1.431560</td>\n",
       "      <td>1.910799</td>\n",
       "      <td>1.545294</td>\n",
       "      <td>1.253469</td>\n",
       "      <td>7.307004</td>\n",
       "    </tr>\n",
       "  </tbody>\n",
       "</table>\n",
       "</div>"
      ],
      "text/plain": [
       "           a         b         c         d         e         f\n",
       "0   1.348100  1.082937  1.966298  1.803383  1.838531  8.039249\n",
       "1   1.952029  1.367899  1.310907  1.701936  1.165375  7.498146\n",
       "2   1.016672  1.210625  1.634034  1.653365  1.177835  6.692531\n",
       "3   1.183332  1.475133  1.448044  1.253248  1.763142  7.122899\n",
       "4   1.085077  1.164902  1.429028  1.062797  1.318378  6.060181\n",
       "5   1.511669  1.696548  1.268949  1.623313  1.388345  7.488825\n",
       "6   1.689582  1.195712  1.285412  1.527286  1.984366  7.682360\n",
       "7   1.555271  1.862750  1.126686  1.363633  1.890169  7.798510\n",
       "8   1.959578  1.121436  1.867685  1.107149  1.482768  7.538617\n",
       "9   1.751990  1.038041  1.451810  1.666667  1.441924  7.350431\n",
       "10  1.624103  1.921546  1.031269  1.332237  1.640833  7.549989\n",
       "11  1.825093  1.891588  1.515093  1.796504  1.740989  8.769267\n",
       "12  1.625777  1.949599  1.582934  1.677156  1.463355  8.298821\n",
       "13  1.936357  1.259346  1.100011  1.138973  1.543989  6.978676\n",
       "14  1.484341  1.367338  1.493532  1.485130  1.791468  7.621809\n",
       "15  1.422251  1.249283  1.222316  1.944138  1.450331  7.288318\n",
       "16  1.578894  1.292952  1.614339  1.674415  1.015704  7.176303\n",
       "17  1.556985  1.088652  1.513200  1.000260  1.316375  6.475472\n",
       "18  1.718478  1.700167  1.722156  1.053946  1.667953  7.862699\n",
       "19  1.165881  1.431560  1.910799  1.545294  1.253469  7.307004"
      ]
     },
     "execution_count": 17,
     "metadata": {},
     "output_type": "execute_result"
    }
   ],
   "source": [
    "df[\"f\"] = df[\"a\"] + df[\"b\"] + df[\"c\"] + df[\"d\"] + df[\"e\"]\n",
    "\n",
    "df"
   ]
  },
  {
   "cell_type": "code",
   "execution_count": 18,
   "metadata": {},
   "outputs": [
    {
     "data": {
      "text/html": [
       "<div>\n",
       "<style scoped>\n",
       "    .dataframe tbody tr th:only-of-type {\n",
       "        vertical-align: middle;\n",
       "    }\n",
       "\n",
       "    .dataframe tbody tr th {\n",
       "        vertical-align: top;\n",
       "    }\n",
       "\n",
       "    .dataframe thead th {\n",
       "        text-align: right;\n",
       "    }\n",
       "</style>\n",
       "<table border=\"1\" class=\"dataframe\">\n",
       "  <thead>\n",
       "    <tr style=\"text-align: right;\">\n",
       "      <th></th>\n",
       "      <th>a</th>\n",
       "      <th>b</th>\n",
       "      <th>c</th>\n",
       "      <th>d</th>\n",
       "      <th>e</th>\n",
       "      <th>f</th>\n",
       "      <th>g</th>\n",
       "    </tr>\n",
       "  </thead>\n",
       "  <tbody>\n",
       "    <tr>\n",
       "      <th>0</th>\n",
       "      <td>1.348100</td>\n",
       "      <td>1.082937</td>\n",
       "      <td>1.966298</td>\n",
       "      <td>1.803383</td>\n",
       "      <td>1.838531</td>\n",
       "      <td>8.039249</td>\n",
       "      <td>GT8</td>\n",
       "    </tr>\n",
       "    <tr>\n",
       "      <th>1</th>\n",
       "      <td>1.952029</td>\n",
       "      <td>1.367899</td>\n",
       "      <td>1.310907</td>\n",
       "      <td>1.701936</td>\n",
       "      <td>1.165375</td>\n",
       "      <td>7.498146</td>\n",
       "      <td>LT8</td>\n",
       "    </tr>\n",
       "    <tr>\n",
       "      <th>2</th>\n",
       "      <td>1.016672</td>\n",
       "      <td>1.210625</td>\n",
       "      <td>1.634034</td>\n",
       "      <td>1.653365</td>\n",
       "      <td>1.177835</td>\n",
       "      <td>6.692531</td>\n",
       "      <td>LT8</td>\n",
       "    </tr>\n",
       "    <tr>\n",
       "      <th>3</th>\n",
       "      <td>1.183332</td>\n",
       "      <td>1.475133</td>\n",
       "      <td>1.448044</td>\n",
       "      <td>1.253248</td>\n",
       "      <td>1.763142</td>\n",
       "      <td>7.122899</td>\n",
       "      <td>LT8</td>\n",
       "    </tr>\n",
       "    <tr>\n",
       "      <th>4</th>\n",
       "      <td>1.085077</td>\n",
       "      <td>1.164902</td>\n",
       "      <td>1.429028</td>\n",
       "      <td>1.062797</td>\n",
       "      <td>1.318378</td>\n",
       "      <td>6.060181</td>\n",
       "      <td>LT8</td>\n",
       "    </tr>\n",
       "    <tr>\n",
       "      <th>5</th>\n",
       "      <td>1.511669</td>\n",
       "      <td>1.696548</td>\n",
       "      <td>1.268949</td>\n",
       "      <td>1.623313</td>\n",
       "      <td>1.388345</td>\n",
       "      <td>7.488825</td>\n",
       "      <td>LT8</td>\n",
       "    </tr>\n",
       "    <tr>\n",
       "      <th>6</th>\n",
       "      <td>1.689582</td>\n",
       "      <td>1.195712</td>\n",
       "      <td>1.285412</td>\n",
       "      <td>1.527286</td>\n",
       "      <td>1.984366</td>\n",
       "      <td>7.682360</td>\n",
       "      <td>LT8</td>\n",
       "    </tr>\n",
       "    <tr>\n",
       "      <th>7</th>\n",
       "      <td>1.555271</td>\n",
       "      <td>1.862750</td>\n",
       "      <td>1.126686</td>\n",
       "      <td>1.363633</td>\n",
       "      <td>1.890169</td>\n",
       "      <td>7.798510</td>\n",
       "      <td>LT8</td>\n",
       "    </tr>\n",
       "    <tr>\n",
       "      <th>8</th>\n",
       "      <td>1.959578</td>\n",
       "      <td>1.121436</td>\n",
       "      <td>1.867685</td>\n",
       "      <td>1.107149</td>\n",
       "      <td>1.482768</td>\n",
       "      <td>7.538617</td>\n",
       "      <td>LT8</td>\n",
       "    </tr>\n",
       "    <tr>\n",
       "      <th>9</th>\n",
       "      <td>1.751990</td>\n",
       "      <td>1.038041</td>\n",
       "      <td>1.451810</td>\n",
       "      <td>1.666667</td>\n",
       "      <td>1.441924</td>\n",
       "      <td>7.350431</td>\n",
       "      <td>LT8</td>\n",
       "    </tr>\n",
       "    <tr>\n",
       "      <th>10</th>\n",
       "      <td>1.624103</td>\n",
       "      <td>1.921546</td>\n",
       "      <td>1.031269</td>\n",
       "      <td>1.332237</td>\n",
       "      <td>1.640833</td>\n",
       "      <td>7.549989</td>\n",
       "      <td>LT8</td>\n",
       "    </tr>\n",
       "    <tr>\n",
       "      <th>11</th>\n",
       "      <td>1.825093</td>\n",
       "      <td>1.891588</td>\n",
       "      <td>1.515093</td>\n",
       "      <td>1.796504</td>\n",
       "      <td>1.740989</td>\n",
       "      <td>8.769267</td>\n",
       "      <td>GT8</td>\n",
       "    </tr>\n",
       "    <tr>\n",
       "      <th>12</th>\n",
       "      <td>1.625777</td>\n",
       "      <td>1.949599</td>\n",
       "      <td>1.582934</td>\n",
       "      <td>1.677156</td>\n",
       "      <td>1.463355</td>\n",
       "      <td>8.298821</td>\n",
       "      <td>GT8</td>\n",
       "    </tr>\n",
       "    <tr>\n",
       "      <th>13</th>\n",
       "      <td>1.936357</td>\n",
       "      <td>1.259346</td>\n",
       "      <td>1.100011</td>\n",
       "      <td>1.138973</td>\n",
       "      <td>1.543989</td>\n",
       "      <td>6.978676</td>\n",
       "      <td>LT8</td>\n",
       "    </tr>\n",
       "    <tr>\n",
       "      <th>14</th>\n",
       "      <td>1.484341</td>\n",
       "      <td>1.367338</td>\n",
       "      <td>1.493532</td>\n",
       "      <td>1.485130</td>\n",
       "      <td>1.791468</td>\n",
       "      <td>7.621809</td>\n",
       "      <td>LT8</td>\n",
       "    </tr>\n",
       "    <tr>\n",
       "      <th>15</th>\n",
       "      <td>1.422251</td>\n",
       "      <td>1.249283</td>\n",
       "      <td>1.222316</td>\n",
       "      <td>1.944138</td>\n",
       "      <td>1.450331</td>\n",
       "      <td>7.288318</td>\n",
       "      <td>LT8</td>\n",
       "    </tr>\n",
       "    <tr>\n",
       "      <th>16</th>\n",
       "      <td>1.578894</td>\n",
       "      <td>1.292952</td>\n",
       "      <td>1.614339</td>\n",
       "      <td>1.674415</td>\n",
       "      <td>1.015704</td>\n",
       "      <td>7.176303</td>\n",
       "      <td>LT8</td>\n",
       "    </tr>\n",
       "    <tr>\n",
       "      <th>17</th>\n",
       "      <td>1.556985</td>\n",
       "      <td>1.088652</td>\n",
       "      <td>1.513200</td>\n",
       "      <td>1.000260</td>\n",
       "      <td>1.316375</td>\n",
       "      <td>6.475472</td>\n",
       "      <td>LT8</td>\n",
       "    </tr>\n",
       "    <tr>\n",
       "      <th>18</th>\n",
       "      <td>1.718478</td>\n",
       "      <td>1.700167</td>\n",
       "      <td>1.722156</td>\n",
       "      <td>1.053946</td>\n",
       "      <td>1.667953</td>\n",
       "      <td>7.862699</td>\n",
       "      <td>LT8</td>\n",
       "    </tr>\n",
       "    <tr>\n",
       "      <th>19</th>\n",
       "      <td>1.165881</td>\n",
       "      <td>1.431560</td>\n",
       "      <td>1.910799</td>\n",
       "      <td>1.545294</td>\n",
       "      <td>1.253469</td>\n",
       "      <td>7.307004</td>\n",
       "      <td>LT8</td>\n",
       "    </tr>\n",
       "  </tbody>\n",
       "</table>\n",
       "</div>"
      ],
      "text/plain": [
       "           a         b         c         d         e         f    g\n",
       "0   1.348100  1.082937  1.966298  1.803383  1.838531  8.039249  GT8\n",
       "1   1.952029  1.367899  1.310907  1.701936  1.165375  7.498146  LT8\n",
       "2   1.016672  1.210625  1.634034  1.653365  1.177835  6.692531  LT8\n",
       "3   1.183332  1.475133  1.448044  1.253248  1.763142  7.122899  LT8\n",
       "4   1.085077  1.164902  1.429028  1.062797  1.318378  6.060181  LT8\n",
       "5   1.511669  1.696548  1.268949  1.623313  1.388345  7.488825  LT8\n",
       "6   1.689582  1.195712  1.285412  1.527286  1.984366  7.682360  LT8\n",
       "7   1.555271  1.862750  1.126686  1.363633  1.890169  7.798510  LT8\n",
       "8   1.959578  1.121436  1.867685  1.107149  1.482768  7.538617  LT8\n",
       "9   1.751990  1.038041  1.451810  1.666667  1.441924  7.350431  LT8\n",
       "10  1.624103  1.921546  1.031269  1.332237  1.640833  7.549989  LT8\n",
       "11  1.825093  1.891588  1.515093  1.796504  1.740989  8.769267  GT8\n",
       "12  1.625777  1.949599  1.582934  1.677156  1.463355  8.298821  GT8\n",
       "13  1.936357  1.259346  1.100011  1.138973  1.543989  6.978676  LT8\n",
       "14  1.484341  1.367338  1.493532  1.485130  1.791468  7.621809  LT8\n",
       "15  1.422251  1.249283  1.222316  1.944138  1.450331  7.288318  LT8\n",
       "16  1.578894  1.292952  1.614339  1.674415  1.015704  7.176303  LT8\n",
       "17  1.556985  1.088652  1.513200  1.000260  1.316375  6.475472  LT8\n",
       "18  1.718478  1.700167  1.722156  1.053946  1.667953  7.862699  LT8\n",
       "19  1.165881  1.431560  1.910799  1.545294  1.253469  7.307004  LT8"
      ]
     },
     "execution_count": 18,
     "metadata": {},
     "output_type": "execute_result"
    }
   ],
   "source": [
    "df[\"g\"] = df[\"f\"].apply(lambda x: \"LT8\" if x < 8 else \"GT8\")\n",
    "\n",
    "df"
   ]
  },
  {
   "cell_type": "code",
   "execution_count": 19,
   "metadata": {},
   "outputs": [
    {
     "data": {
      "text/plain": [
       "(17, 3)"
      ]
     },
     "execution_count": 19,
     "metadata": {},
     "output_type": "execute_result"
    }
   ],
   "source": [
    "df[df[\"g\"] == \"LT8\"].shape[0], df[df[\"g\"] == \"GT8\"].shape[0]"
   ]
  },
  {
   "cell_type": "code",
   "execution_count": 20,
   "metadata": {},
   "outputs": [
    {
     "data": {
      "text/plain": [
       "(0.4825855624970909, 0.3700503886104357)"
      ]
     },
     "execution_count": 20,
     "metadata": {},
     "output_type": "execute_result"
    }
   ],
   "source": [
    "df[df[\"g\"] == \"LT8\"][\"f\"].std(), df[df[\"g\"] == \"GT8\"][\"f\"].std()"
   ]
  },
  {
   "cell_type": "markdown",
   "metadata": {},
   "source": [
    "# ----------------------------------------------------------------------\n"
   ]
  },
  {
   "cell_type": "markdown",
   "metadata": {},
   "source": [
    "12. Write a small piece of code to explain broadcasting in numpy."
   ]
  },
  {
   "cell_type": "markdown",
   "metadata": {},
   "source": [
    "ANS. NumPy has a feature called broadcasting that lets it work with arrays of various sizes. NumPy will add a scalar to each element of an array, for instance, if you add one to it. NumPy will similarly add a 1D array to each row of a 2D array when you add one to the other."
   ]
  },
  {
   "cell_type": "code",
   "execution_count": 21,
   "metadata": {},
   "outputs": [
    {
     "data": {
      "text/plain": [
       "array([4, 5, 6, 7])"
      ]
     },
     "execution_count": 21,
     "metadata": {},
     "output_type": "execute_result"
    }
   ],
   "source": [
    "a = np.array([1, 2, 3, 4])\n",
    "b = 3\n",
    "\n",
    "a + b"
   ]
  },
  {
   "cell_type": "code",
   "execution_count": 22,
   "metadata": {},
   "outputs": [
    {
     "data": {
      "text/plain": [
       "array([[ 8, 10, 12],\n",
       "       [11, 13, 15]])"
      ]
     },
     "execution_count": 22,
     "metadata": {},
     "output_type": "execute_result"
    }
   ],
   "source": [
    "a = np.array([[1, 2, 3], [4, 5, 6]])\n",
    "b = np.array([7, 8, 9])\n",
    "\n",
    "a + b"
   ]
  },
  {
   "cell_type": "markdown",
   "metadata": {},
   "source": [
    "# ----------------------------------------------------------------------\n"
   ]
  },
  {
   "cell_type": "markdown",
   "metadata": {},
   "source": [
    "13. Write a function to compute the argmin of a numpy array. The function should take a numpy array as input and return the index of the minimum element. You can use the np.argmin function to verify your solution."
   ]
  },
  {
   "cell_type": "code",
   "execution_count": 23,
   "metadata": {},
   "outputs": [],
   "source": [
    "def argmin(n):\n",
    "    if len(n) == 1:\n",
    "        return 0\n",
    "    m = n[0]\n",
    "    idx = 0\n",
    "    for i in range(1, len(n)):\n",
    "        if x[i] < m:\n",
    "            m = n[i]\n",
    "            idx = i\n",
    "    return idx"
   ]
  },
  {
   "cell_type": "code",
   "execution_count": 24,
   "metadata": {},
   "outputs": [
    {
     "data": {
      "text/plain": [
       "(0, 0)"
      ]
     },
     "execution_count": 24,
     "metadata": {},
     "output_type": "execute_result"
    }
   ],
   "source": [
    "argmin([1, 2, 3]), np.argmin([1, 2, 3])"
   ]
  }
 ],
 "metadata": {
  "kernelspec": {
   "display_name": "rl",
   "language": "python",
   "name": "python3"
  },
  "language_info": {
   "codemirror_mode": {
    "name": "ipython",
    "version": 3
   },
   "file_extension": ".py",
   "mimetype": "text/x-python",
   "name": "python",
   "nbconvert_exporter": "python",
   "pygments_lexer": "ipython3",
   "version": "3.9.18"
  }
 },
 "nbformat": 4,
 "nbformat_minor": 2
}
